{
  "nbformat": 4,
  "nbformat_minor": 0,
  "metadata": {
    "colab": {
      "name": "Ud_intro_to_pytorch_PART2.ipynb",
      "provenance": [],
      "collapsed_sections": []
    },
    "kernelspec": {
      "name": "python3",
      "display_name": "Python 3"
    },
    "widgets": {
      "application/vnd.jupyter.widget-state+json": {
        "3ca4733ad10d4b278c81980eb05b27fc": {
          "model_module": "@jupyter-widgets/controls",
          "model_name": "HBoxModel",
          "state": {
            "_view_name": "HBoxView",
            "_dom_classes": [],
            "_model_name": "HBoxModel",
            "_view_module": "@jupyter-widgets/controls",
            "_model_module_version": "1.5.0",
            "_view_count": null,
            "_view_module_version": "1.5.0",
            "box_style": "",
            "layout": "IPY_MODEL_91b591c54ef34f6aa681e5d918820378",
            "_model_module": "@jupyter-widgets/controls",
            "children": [
              "IPY_MODEL_1a790e5e696f4b6b8eb112c6e1486388",
              "IPY_MODEL_71676a3dae8040f997244c263adf93ea"
            ]
          }
        },
        "91b591c54ef34f6aa681e5d918820378": {
          "model_module": "@jupyter-widgets/base",
          "model_name": "LayoutModel",
          "state": {
            "_view_name": "LayoutView",
            "grid_template_rows": null,
            "right": null,
            "justify_content": null,
            "_view_module": "@jupyter-widgets/base",
            "overflow": null,
            "_model_module_version": "1.2.0",
            "_view_count": null,
            "flex_flow": null,
            "width": null,
            "min_width": null,
            "border": null,
            "align_items": null,
            "bottom": null,
            "_model_module": "@jupyter-widgets/base",
            "top": null,
            "grid_column": null,
            "overflow_y": null,
            "overflow_x": null,
            "grid_auto_flow": null,
            "grid_area": null,
            "grid_template_columns": null,
            "flex": null,
            "_model_name": "LayoutModel",
            "justify_items": null,
            "grid_row": null,
            "max_height": null,
            "align_content": null,
            "visibility": null,
            "align_self": null,
            "height": null,
            "min_height": null,
            "padding": null,
            "grid_auto_rows": null,
            "grid_gap": null,
            "max_width": null,
            "order": null,
            "_view_module_version": "1.2.0",
            "grid_template_areas": null,
            "object_position": null,
            "object_fit": null,
            "grid_auto_columns": null,
            "margin": null,
            "display": null,
            "left": null
          }
        },
        "1a790e5e696f4b6b8eb112c6e1486388": {
          "model_module": "@jupyter-widgets/controls",
          "model_name": "IntProgressModel",
          "state": {
            "_view_name": "ProgressView",
            "style": "IPY_MODEL_825c14edc2394ab885d019ea62649ba1",
            "_dom_classes": [],
            "description": "",
            "_model_name": "IntProgressModel",
            "bar_style": "info",
            "max": 1,
            "_view_module": "@jupyter-widgets/controls",
            "_model_module_version": "1.5.0",
            "value": 1,
            "_view_count": null,
            "_view_module_version": "1.5.0",
            "orientation": "horizontal",
            "min": 0,
            "description_tooltip": null,
            "_model_module": "@jupyter-widgets/controls",
            "layout": "IPY_MODEL_8c28ce6dfa67459b9dfed8a1737b3f82"
          }
        },
        "71676a3dae8040f997244c263adf93ea": {
          "model_module": "@jupyter-widgets/controls",
          "model_name": "HTMLModel",
          "state": {
            "_view_name": "HTMLView",
            "style": "IPY_MODEL_5218e608a4a847b2b0ab80b87fc45748",
            "_dom_classes": [],
            "description": "",
            "_model_name": "HTMLModel",
            "placeholder": "​",
            "_view_module": "@jupyter-widgets/controls",
            "_model_module_version": "1.5.0",
            "value": " 9920512/? [00:20&lt;00:00, 1336248.16it/s]",
            "_view_count": null,
            "_view_module_version": "1.5.0",
            "description_tooltip": null,
            "_model_module": "@jupyter-widgets/controls",
            "layout": "IPY_MODEL_f6cffd09ffde47458a86963e07e7210d"
          }
        },
        "825c14edc2394ab885d019ea62649ba1": {
          "model_module": "@jupyter-widgets/controls",
          "model_name": "ProgressStyleModel",
          "state": {
            "_view_name": "StyleView",
            "_model_name": "ProgressStyleModel",
            "description_width": "initial",
            "_view_module": "@jupyter-widgets/base",
            "_model_module_version": "1.5.0",
            "_view_count": null,
            "_view_module_version": "1.2.0",
            "bar_color": null,
            "_model_module": "@jupyter-widgets/controls"
          }
        },
        "8c28ce6dfa67459b9dfed8a1737b3f82": {
          "model_module": "@jupyter-widgets/base",
          "model_name": "LayoutModel",
          "state": {
            "_view_name": "LayoutView",
            "grid_template_rows": null,
            "right": null,
            "justify_content": null,
            "_view_module": "@jupyter-widgets/base",
            "overflow": null,
            "_model_module_version": "1.2.0",
            "_view_count": null,
            "flex_flow": null,
            "width": null,
            "min_width": null,
            "border": null,
            "align_items": null,
            "bottom": null,
            "_model_module": "@jupyter-widgets/base",
            "top": null,
            "grid_column": null,
            "overflow_y": null,
            "overflow_x": null,
            "grid_auto_flow": null,
            "grid_area": null,
            "grid_template_columns": null,
            "flex": null,
            "_model_name": "LayoutModel",
            "justify_items": null,
            "grid_row": null,
            "max_height": null,
            "align_content": null,
            "visibility": null,
            "align_self": null,
            "height": null,
            "min_height": null,
            "padding": null,
            "grid_auto_rows": null,
            "grid_gap": null,
            "max_width": null,
            "order": null,
            "_view_module_version": "1.2.0",
            "grid_template_areas": null,
            "object_position": null,
            "object_fit": null,
            "grid_auto_columns": null,
            "margin": null,
            "display": null,
            "left": null
          }
        },
        "5218e608a4a847b2b0ab80b87fc45748": {
          "model_module": "@jupyter-widgets/controls",
          "model_name": "DescriptionStyleModel",
          "state": {
            "_view_name": "StyleView",
            "_model_name": "DescriptionStyleModel",
            "description_width": "",
            "_view_module": "@jupyter-widgets/base",
            "_model_module_version": "1.5.0",
            "_view_count": null,
            "_view_module_version": "1.2.0",
            "_model_module": "@jupyter-widgets/controls"
          }
        },
        "f6cffd09ffde47458a86963e07e7210d": {
          "model_module": "@jupyter-widgets/base",
          "model_name": "LayoutModel",
          "state": {
            "_view_name": "LayoutView",
            "grid_template_rows": null,
            "right": null,
            "justify_content": null,
            "_view_module": "@jupyter-widgets/base",
            "overflow": null,
            "_model_module_version": "1.2.0",
            "_view_count": null,
            "flex_flow": null,
            "width": null,
            "min_width": null,
            "border": null,
            "align_items": null,
            "bottom": null,
            "_model_module": "@jupyter-widgets/base",
            "top": null,
            "grid_column": null,
            "overflow_y": null,
            "overflow_x": null,
            "grid_auto_flow": null,
            "grid_area": null,
            "grid_template_columns": null,
            "flex": null,
            "_model_name": "LayoutModel",
            "justify_items": null,
            "grid_row": null,
            "max_height": null,
            "align_content": null,
            "visibility": null,
            "align_self": null,
            "height": null,
            "min_height": null,
            "padding": null,
            "grid_auto_rows": null,
            "grid_gap": null,
            "max_width": null,
            "order": null,
            "_view_module_version": "1.2.0",
            "grid_template_areas": null,
            "object_position": null,
            "object_fit": null,
            "grid_auto_columns": null,
            "margin": null,
            "display": null,
            "left": null
          }
        },
        "0da8fb6a38d447f0ae0274851dabd0c0": {
          "model_module": "@jupyter-widgets/controls",
          "model_name": "HBoxModel",
          "state": {
            "_view_name": "HBoxView",
            "_dom_classes": [],
            "_model_name": "HBoxModel",
            "_view_module": "@jupyter-widgets/controls",
            "_model_module_version": "1.5.0",
            "_view_count": null,
            "_view_module_version": "1.5.0",
            "box_style": "",
            "layout": "IPY_MODEL_ebfeb874460d429aa913c5d6a07c0c25",
            "_model_module": "@jupyter-widgets/controls",
            "children": [
              "IPY_MODEL_88588539a14c473bbc63a6b2d4144581",
              "IPY_MODEL_a5501a829e2344d69d458568baadf3ef"
            ]
          }
        },
        "ebfeb874460d429aa913c5d6a07c0c25": {
          "model_module": "@jupyter-widgets/base",
          "model_name": "LayoutModel",
          "state": {
            "_view_name": "LayoutView",
            "grid_template_rows": null,
            "right": null,
            "justify_content": null,
            "_view_module": "@jupyter-widgets/base",
            "overflow": null,
            "_model_module_version": "1.2.0",
            "_view_count": null,
            "flex_flow": null,
            "width": null,
            "min_width": null,
            "border": null,
            "align_items": null,
            "bottom": null,
            "_model_module": "@jupyter-widgets/base",
            "top": null,
            "grid_column": null,
            "overflow_y": null,
            "overflow_x": null,
            "grid_auto_flow": null,
            "grid_area": null,
            "grid_template_columns": null,
            "flex": null,
            "_model_name": "LayoutModel",
            "justify_items": null,
            "grid_row": null,
            "max_height": null,
            "align_content": null,
            "visibility": null,
            "align_self": null,
            "height": null,
            "min_height": null,
            "padding": null,
            "grid_auto_rows": null,
            "grid_gap": null,
            "max_width": null,
            "order": null,
            "_view_module_version": "1.2.0",
            "grid_template_areas": null,
            "object_position": null,
            "object_fit": null,
            "grid_auto_columns": null,
            "margin": null,
            "display": null,
            "left": null
          }
        },
        "88588539a14c473bbc63a6b2d4144581": {
          "model_module": "@jupyter-widgets/controls",
          "model_name": "IntProgressModel",
          "state": {
            "_view_name": "ProgressView",
            "style": "IPY_MODEL_7b9100af8a6340d1aba6fd75cc576d81",
            "_dom_classes": [],
            "description": "",
            "_model_name": "IntProgressModel",
            "bar_style": "success",
            "max": 1,
            "_view_module": "@jupyter-widgets/controls",
            "_model_module_version": "1.5.0",
            "value": 1,
            "_view_count": null,
            "_view_module_version": "1.5.0",
            "orientation": "horizontal",
            "min": 0,
            "description_tooltip": null,
            "_model_module": "@jupyter-widgets/controls",
            "layout": "IPY_MODEL_e89d8b61679f4f7b8f34f513a46eba87"
          }
        },
        "a5501a829e2344d69d458568baadf3ef": {
          "model_module": "@jupyter-widgets/controls",
          "model_name": "HTMLModel",
          "state": {
            "_view_name": "HTMLView",
            "style": "IPY_MODEL_cd40238ddf644b4ea2f50d06ef271885",
            "_dom_classes": [],
            "description": "",
            "_model_name": "HTMLModel",
            "placeholder": "​",
            "_view_module": "@jupyter-widgets/controls",
            "_model_module_version": "1.5.0",
            "value": " 32768/? [00:05&lt;00:00, 6428.51it/s]",
            "_view_count": null,
            "_view_module_version": "1.5.0",
            "description_tooltip": null,
            "_model_module": "@jupyter-widgets/controls",
            "layout": "IPY_MODEL_560fdf1124ab437eb58cbb69557b746e"
          }
        },
        "7b9100af8a6340d1aba6fd75cc576d81": {
          "model_module": "@jupyter-widgets/controls",
          "model_name": "ProgressStyleModel",
          "state": {
            "_view_name": "StyleView",
            "_model_name": "ProgressStyleModel",
            "description_width": "initial",
            "_view_module": "@jupyter-widgets/base",
            "_model_module_version": "1.5.0",
            "_view_count": null,
            "_view_module_version": "1.2.0",
            "bar_color": null,
            "_model_module": "@jupyter-widgets/controls"
          }
        },
        "e89d8b61679f4f7b8f34f513a46eba87": {
          "model_module": "@jupyter-widgets/base",
          "model_name": "LayoutModel",
          "state": {
            "_view_name": "LayoutView",
            "grid_template_rows": null,
            "right": null,
            "justify_content": null,
            "_view_module": "@jupyter-widgets/base",
            "overflow": null,
            "_model_module_version": "1.2.0",
            "_view_count": null,
            "flex_flow": null,
            "width": null,
            "min_width": null,
            "border": null,
            "align_items": null,
            "bottom": null,
            "_model_module": "@jupyter-widgets/base",
            "top": null,
            "grid_column": null,
            "overflow_y": null,
            "overflow_x": null,
            "grid_auto_flow": null,
            "grid_area": null,
            "grid_template_columns": null,
            "flex": null,
            "_model_name": "LayoutModel",
            "justify_items": null,
            "grid_row": null,
            "max_height": null,
            "align_content": null,
            "visibility": null,
            "align_self": null,
            "height": null,
            "min_height": null,
            "padding": null,
            "grid_auto_rows": null,
            "grid_gap": null,
            "max_width": null,
            "order": null,
            "_view_module_version": "1.2.0",
            "grid_template_areas": null,
            "object_position": null,
            "object_fit": null,
            "grid_auto_columns": null,
            "margin": null,
            "display": null,
            "left": null
          }
        },
        "cd40238ddf644b4ea2f50d06ef271885": {
          "model_module": "@jupyter-widgets/controls",
          "model_name": "DescriptionStyleModel",
          "state": {
            "_view_name": "StyleView",
            "_model_name": "DescriptionStyleModel",
            "description_width": "",
            "_view_module": "@jupyter-widgets/base",
            "_model_module_version": "1.5.0",
            "_view_count": null,
            "_view_module_version": "1.2.0",
            "_model_module": "@jupyter-widgets/controls"
          }
        },
        "560fdf1124ab437eb58cbb69557b746e": {
          "model_module": "@jupyter-widgets/base",
          "model_name": "LayoutModel",
          "state": {
            "_view_name": "LayoutView",
            "grid_template_rows": null,
            "right": null,
            "justify_content": null,
            "_view_module": "@jupyter-widgets/base",
            "overflow": null,
            "_model_module_version": "1.2.0",
            "_view_count": null,
            "flex_flow": null,
            "width": null,
            "min_width": null,
            "border": null,
            "align_items": null,
            "bottom": null,
            "_model_module": "@jupyter-widgets/base",
            "top": null,
            "grid_column": null,
            "overflow_y": null,
            "overflow_x": null,
            "grid_auto_flow": null,
            "grid_area": null,
            "grid_template_columns": null,
            "flex": null,
            "_model_name": "LayoutModel",
            "justify_items": null,
            "grid_row": null,
            "max_height": null,
            "align_content": null,
            "visibility": null,
            "align_self": null,
            "height": null,
            "min_height": null,
            "padding": null,
            "grid_auto_rows": null,
            "grid_gap": null,
            "max_width": null,
            "order": null,
            "_view_module_version": "1.2.0",
            "grid_template_areas": null,
            "object_position": null,
            "object_fit": null,
            "grid_auto_columns": null,
            "margin": null,
            "display": null,
            "left": null
          }
        },
        "c1a90f2f60c54ab8bf9214bb89a3599b": {
          "model_module": "@jupyter-widgets/controls",
          "model_name": "HBoxModel",
          "state": {
            "_view_name": "HBoxView",
            "_dom_classes": [],
            "_model_name": "HBoxModel",
            "_view_module": "@jupyter-widgets/controls",
            "_model_module_version": "1.5.0",
            "_view_count": null,
            "_view_module_version": "1.5.0",
            "box_style": "",
            "layout": "IPY_MODEL_d5c5c49c9c8b4733aaa841b8569019fc",
            "_model_module": "@jupyter-widgets/controls",
            "children": [
              "IPY_MODEL_f40b7dc0f480445e931ee65435fafde8",
              "IPY_MODEL_557158786b0f485a9600212c6d268ef7"
            ]
          }
        },
        "d5c5c49c9c8b4733aaa841b8569019fc": {
          "model_module": "@jupyter-widgets/base",
          "model_name": "LayoutModel",
          "state": {
            "_view_name": "LayoutView",
            "grid_template_rows": null,
            "right": null,
            "justify_content": null,
            "_view_module": "@jupyter-widgets/base",
            "overflow": null,
            "_model_module_version": "1.2.0",
            "_view_count": null,
            "flex_flow": null,
            "width": null,
            "min_width": null,
            "border": null,
            "align_items": null,
            "bottom": null,
            "_model_module": "@jupyter-widgets/base",
            "top": null,
            "grid_column": null,
            "overflow_y": null,
            "overflow_x": null,
            "grid_auto_flow": null,
            "grid_area": null,
            "grid_template_columns": null,
            "flex": null,
            "_model_name": "LayoutModel",
            "justify_items": null,
            "grid_row": null,
            "max_height": null,
            "align_content": null,
            "visibility": null,
            "align_self": null,
            "height": null,
            "min_height": null,
            "padding": null,
            "grid_auto_rows": null,
            "grid_gap": null,
            "max_width": null,
            "order": null,
            "_view_module_version": "1.2.0",
            "grid_template_areas": null,
            "object_position": null,
            "object_fit": null,
            "grid_auto_columns": null,
            "margin": null,
            "display": null,
            "left": null
          }
        },
        "f40b7dc0f480445e931ee65435fafde8": {
          "model_module": "@jupyter-widgets/controls",
          "model_name": "IntProgressModel",
          "state": {
            "_view_name": "ProgressView",
            "style": "IPY_MODEL_c2c07b70f0414f76be951b6d78198728",
            "_dom_classes": [],
            "description": "",
            "_model_name": "IntProgressModel",
            "bar_style": "success",
            "max": 1,
            "_view_module": "@jupyter-widgets/controls",
            "_model_module_version": "1.5.0",
            "value": 1,
            "_view_count": null,
            "_view_module_version": "1.5.0",
            "orientation": "horizontal",
            "min": 0,
            "description_tooltip": null,
            "_model_module": "@jupyter-widgets/controls",
            "layout": "IPY_MODEL_e6f214993d7744259d27bb70e1b9c43c"
          }
        },
        "557158786b0f485a9600212c6d268ef7": {
          "model_module": "@jupyter-widgets/controls",
          "model_name": "HTMLModel",
          "state": {
            "_view_name": "HTMLView",
            "style": "IPY_MODEL_c59154a451d342629b46b857c37f62bb",
            "_dom_classes": [],
            "description": "",
            "_model_name": "HTMLModel",
            "placeholder": "​",
            "_view_module": "@jupyter-widgets/controls",
            "_model_module_version": "1.5.0",
            "value": " 1654784/? [00:04&lt;00:00, 371024.76it/s]",
            "_view_count": null,
            "_view_module_version": "1.5.0",
            "description_tooltip": null,
            "_model_module": "@jupyter-widgets/controls",
            "layout": "IPY_MODEL_2a9d47501e5442d0b7ec1f3db014d005"
          }
        },
        "c2c07b70f0414f76be951b6d78198728": {
          "model_module": "@jupyter-widgets/controls",
          "model_name": "ProgressStyleModel",
          "state": {
            "_view_name": "StyleView",
            "_model_name": "ProgressStyleModel",
            "description_width": "initial",
            "_view_module": "@jupyter-widgets/base",
            "_model_module_version": "1.5.0",
            "_view_count": null,
            "_view_module_version": "1.2.0",
            "bar_color": null,
            "_model_module": "@jupyter-widgets/controls"
          }
        },
        "e6f214993d7744259d27bb70e1b9c43c": {
          "model_module": "@jupyter-widgets/base",
          "model_name": "LayoutModel",
          "state": {
            "_view_name": "LayoutView",
            "grid_template_rows": null,
            "right": null,
            "justify_content": null,
            "_view_module": "@jupyter-widgets/base",
            "overflow": null,
            "_model_module_version": "1.2.0",
            "_view_count": null,
            "flex_flow": null,
            "width": null,
            "min_width": null,
            "border": null,
            "align_items": null,
            "bottom": null,
            "_model_module": "@jupyter-widgets/base",
            "top": null,
            "grid_column": null,
            "overflow_y": null,
            "overflow_x": null,
            "grid_auto_flow": null,
            "grid_area": null,
            "grid_template_columns": null,
            "flex": null,
            "_model_name": "LayoutModel",
            "justify_items": null,
            "grid_row": null,
            "max_height": null,
            "align_content": null,
            "visibility": null,
            "align_self": null,
            "height": null,
            "min_height": null,
            "padding": null,
            "grid_auto_rows": null,
            "grid_gap": null,
            "max_width": null,
            "order": null,
            "_view_module_version": "1.2.0",
            "grid_template_areas": null,
            "object_position": null,
            "object_fit": null,
            "grid_auto_columns": null,
            "margin": null,
            "display": null,
            "left": null
          }
        },
        "c59154a451d342629b46b857c37f62bb": {
          "model_module": "@jupyter-widgets/controls",
          "model_name": "DescriptionStyleModel",
          "state": {
            "_view_name": "StyleView",
            "_model_name": "DescriptionStyleModel",
            "description_width": "",
            "_view_module": "@jupyter-widgets/base",
            "_model_module_version": "1.5.0",
            "_view_count": null,
            "_view_module_version": "1.2.0",
            "_model_module": "@jupyter-widgets/controls"
          }
        },
        "2a9d47501e5442d0b7ec1f3db014d005": {
          "model_module": "@jupyter-widgets/base",
          "model_name": "LayoutModel",
          "state": {
            "_view_name": "LayoutView",
            "grid_template_rows": null,
            "right": null,
            "justify_content": null,
            "_view_module": "@jupyter-widgets/base",
            "overflow": null,
            "_model_module_version": "1.2.0",
            "_view_count": null,
            "flex_flow": null,
            "width": null,
            "min_width": null,
            "border": null,
            "align_items": null,
            "bottom": null,
            "_model_module": "@jupyter-widgets/base",
            "top": null,
            "grid_column": null,
            "overflow_y": null,
            "overflow_x": null,
            "grid_auto_flow": null,
            "grid_area": null,
            "grid_template_columns": null,
            "flex": null,
            "_model_name": "LayoutModel",
            "justify_items": null,
            "grid_row": null,
            "max_height": null,
            "align_content": null,
            "visibility": null,
            "align_self": null,
            "height": null,
            "min_height": null,
            "padding": null,
            "grid_auto_rows": null,
            "grid_gap": null,
            "max_width": null,
            "order": null,
            "_view_module_version": "1.2.0",
            "grid_template_areas": null,
            "object_position": null,
            "object_fit": null,
            "grid_auto_columns": null,
            "margin": null,
            "display": null,
            "left": null
          }
        },
        "1bd5cd86d9604c7ea5fc929269d17663": {
          "model_module": "@jupyter-widgets/controls",
          "model_name": "HBoxModel",
          "state": {
            "_view_name": "HBoxView",
            "_dom_classes": [],
            "_model_name": "HBoxModel",
            "_view_module": "@jupyter-widgets/controls",
            "_model_module_version": "1.5.0",
            "_view_count": null,
            "_view_module_version": "1.5.0",
            "box_style": "",
            "layout": "IPY_MODEL_ea6cb09b6ce3403e89ccb6a01462b207",
            "_model_module": "@jupyter-widgets/controls",
            "children": [
              "IPY_MODEL_8bae4bec710c420287a46049311beda8",
              "IPY_MODEL_0c55b955e6974dcaa1acc4d412ba8246"
            ]
          }
        },
        "ea6cb09b6ce3403e89ccb6a01462b207": {
          "model_module": "@jupyter-widgets/base",
          "model_name": "LayoutModel",
          "state": {
            "_view_name": "LayoutView",
            "grid_template_rows": null,
            "right": null,
            "justify_content": null,
            "_view_module": "@jupyter-widgets/base",
            "overflow": null,
            "_model_module_version": "1.2.0",
            "_view_count": null,
            "flex_flow": null,
            "width": null,
            "min_width": null,
            "border": null,
            "align_items": null,
            "bottom": null,
            "_model_module": "@jupyter-widgets/base",
            "top": null,
            "grid_column": null,
            "overflow_y": null,
            "overflow_x": null,
            "grid_auto_flow": null,
            "grid_area": null,
            "grid_template_columns": null,
            "flex": null,
            "_model_name": "LayoutModel",
            "justify_items": null,
            "grid_row": null,
            "max_height": null,
            "align_content": null,
            "visibility": null,
            "align_self": null,
            "height": null,
            "min_height": null,
            "padding": null,
            "grid_auto_rows": null,
            "grid_gap": null,
            "max_width": null,
            "order": null,
            "_view_module_version": "1.2.0",
            "grid_template_areas": null,
            "object_position": null,
            "object_fit": null,
            "grid_auto_columns": null,
            "margin": null,
            "display": null,
            "left": null
          }
        },
        "8bae4bec710c420287a46049311beda8": {
          "model_module": "@jupyter-widgets/controls",
          "model_name": "IntProgressModel",
          "state": {
            "_view_name": "ProgressView",
            "style": "IPY_MODEL_dc655b8375d74951ad0256861a361c29",
            "_dom_classes": [],
            "description": "",
            "_model_name": "IntProgressModel",
            "bar_style": "success",
            "max": 1,
            "_view_module": "@jupyter-widgets/controls",
            "_model_module_version": "1.5.0",
            "value": 1,
            "_view_count": null,
            "_view_module_version": "1.5.0",
            "orientation": "horizontal",
            "min": 0,
            "description_tooltip": null,
            "_model_module": "@jupyter-widgets/controls",
            "layout": "IPY_MODEL_7d842c9996ab4e2091f739445e0f46f0"
          }
        },
        "0c55b955e6974dcaa1acc4d412ba8246": {
          "model_module": "@jupyter-widgets/controls",
          "model_name": "HTMLModel",
          "state": {
            "_view_name": "HTMLView",
            "style": "IPY_MODEL_3ad25309432f4a2f83202614df7b30c8",
            "_dom_classes": [],
            "description": "",
            "_model_name": "HTMLModel",
            "placeholder": "​",
            "_view_module": "@jupyter-widgets/controls",
            "_model_module_version": "1.5.0",
            "value": " 8192/? [00:03&lt;00:00, 2198.00it/s]",
            "_view_count": null,
            "_view_module_version": "1.5.0",
            "description_tooltip": null,
            "_model_module": "@jupyter-widgets/controls",
            "layout": "IPY_MODEL_1010cc42048a41419dc3c773f1ccee26"
          }
        },
        "dc655b8375d74951ad0256861a361c29": {
          "model_module": "@jupyter-widgets/controls",
          "model_name": "ProgressStyleModel",
          "state": {
            "_view_name": "StyleView",
            "_model_name": "ProgressStyleModel",
            "description_width": "initial",
            "_view_module": "@jupyter-widgets/base",
            "_model_module_version": "1.5.0",
            "_view_count": null,
            "_view_module_version": "1.2.0",
            "bar_color": null,
            "_model_module": "@jupyter-widgets/controls"
          }
        },
        "7d842c9996ab4e2091f739445e0f46f0": {
          "model_module": "@jupyter-widgets/base",
          "model_name": "LayoutModel",
          "state": {
            "_view_name": "LayoutView",
            "grid_template_rows": null,
            "right": null,
            "justify_content": null,
            "_view_module": "@jupyter-widgets/base",
            "overflow": null,
            "_model_module_version": "1.2.0",
            "_view_count": null,
            "flex_flow": null,
            "width": null,
            "min_width": null,
            "border": null,
            "align_items": null,
            "bottom": null,
            "_model_module": "@jupyter-widgets/base",
            "top": null,
            "grid_column": null,
            "overflow_y": null,
            "overflow_x": null,
            "grid_auto_flow": null,
            "grid_area": null,
            "grid_template_columns": null,
            "flex": null,
            "_model_name": "LayoutModel",
            "justify_items": null,
            "grid_row": null,
            "max_height": null,
            "align_content": null,
            "visibility": null,
            "align_self": null,
            "height": null,
            "min_height": null,
            "padding": null,
            "grid_auto_rows": null,
            "grid_gap": null,
            "max_width": null,
            "order": null,
            "_view_module_version": "1.2.0",
            "grid_template_areas": null,
            "object_position": null,
            "object_fit": null,
            "grid_auto_columns": null,
            "margin": null,
            "display": null,
            "left": null
          }
        },
        "3ad25309432f4a2f83202614df7b30c8": {
          "model_module": "@jupyter-widgets/controls",
          "model_name": "DescriptionStyleModel",
          "state": {
            "_view_name": "StyleView",
            "_model_name": "DescriptionStyleModel",
            "description_width": "",
            "_view_module": "@jupyter-widgets/base",
            "_model_module_version": "1.5.0",
            "_view_count": null,
            "_view_module_version": "1.2.0",
            "_model_module": "@jupyter-widgets/controls"
          }
        },
        "1010cc42048a41419dc3c773f1ccee26": {
          "model_module": "@jupyter-widgets/base",
          "model_name": "LayoutModel",
          "state": {
            "_view_name": "LayoutView",
            "grid_template_rows": null,
            "right": null,
            "justify_content": null,
            "_view_module": "@jupyter-widgets/base",
            "overflow": null,
            "_model_module_version": "1.2.0",
            "_view_count": null,
            "flex_flow": null,
            "width": null,
            "min_width": null,
            "border": null,
            "align_items": null,
            "bottom": null,
            "_model_module": "@jupyter-widgets/base",
            "top": null,
            "grid_column": null,
            "overflow_y": null,
            "overflow_x": null,
            "grid_auto_flow": null,
            "grid_area": null,
            "grid_template_columns": null,
            "flex": null,
            "_model_name": "LayoutModel",
            "justify_items": null,
            "grid_row": null,
            "max_height": null,
            "align_content": null,
            "visibility": null,
            "align_self": null,
            "height": null,
            "min_height": null,
            "padding": null,
            "grid_auto_rows": null,
            "grid_gap": null,
            "max_width": null,
            "order": null,
            "_view_module_version": "1.2.0",
            "grid_template_areas": null,
            "object_position": null,
            "object_fit": null,
            "grid_auto_columns": null,
            "margin": null,
            "display": null,
            "left": null
          }
        }
      }
    }
  },
  "cells": [
    {
      "cell_type": "code",
      "metadata": {
        "id": "7na-sqqleSKF",
        "colab_type": "code",
        "colab": {}
      },
      "source": [
        "import numpy as np"
      ],
      "execution_count": 0,
      "outputs": []
    },
    {
      "cell_type": "code",
      "metadata": {
        "id": "PBF4OT5n1WpJ",
        "colab_type": "code",
        "colab": {}
      },
      "source": [
        "import torch"
      ],
      "execution_count": 0,
      "outputs": []
    },
    {
      "cell_type": "code",
      "metadata": {
        "id": "e-9tvHaJ1XcV",
        "colab_type": "code",
        "colab": {}
      },
      "source": [
        "import helper\n",
        "import matplotlib.pyplot as plt"
      ],
      "execution_count": 0,
      "outputs": []
    },
    {
      "cell_type": "code",
      "metadata": {
        "id": "X1ANd3271bN8",
        "colab_type": "code",
        "colab": {}
      },
      "source": [
        "from torchvision import datasets,transforms"
      ],
      "execution_count": 0,
      "outputs": []
    },
    {
      "cell_type": "code",
      "metadata": {
        "id": "mkNkvrKL3618",
        "colab_type": "code",
        "colab": {}
      },
      "source": [
        "def activation(x):\n",
        "    \"\"\" Sigmoid activation function \n",
        "    \n",
        "        Arguments\n",
        "        ---------\n",
        "        x: torch.Tensor\n",
        "    \"\"\"\n",
        "    return 1/(1+torch.exp(-x))"
      ],
      "execution_count": 0,
      "outputs": []
    },
    {
      "cell_type": "code",
      "metadata": {
        "id": "WdInPuK81huG",
        "colab_type": "code",
        "colab": {}
      },
      "source": [
        "transforms =transforms.Compose([transforms.ToTensor(),\\\n",
        "                                transforms.Normalize((0.5),(0.5))])"
      ],
      "execution_count": 0,
      "outputs": []
    },
    {
      "cell_type": "code",
      "metadata": {
        "id": "MZmAEsni1xXG",
        "colab_type": "code",
        "outputId": "f7f38679-9581-4275-e997-4483d35c6d2a",
        "colab": {
          "base_uri": "https://localhost:8080/",
          "height": 350,
          "referenced_widgets": [
            "3ca4733ad10d4b278c81980eb05b27fc",
            "91b591c54ef34f6aa681e5d918820378",
            "1a790e5e696f4b6b8eb112c6e1486388",
            "71676a3dae8040f997244c263adf93ea",
            "825c14edc2394ab885d019ea62649ba1",
            "8c28ce6dfa67459b9dfed8a1737b3f82",
            "5218e608a4a847b2b0ab80b87fc45748",
            "f6cffd09ffde47458a86963e07e7210d",
            "0da8fb6a38d447f0ae0274851dabd0c0",
            "ebfeb874460d429aa913c5d6a07c0c25",
            "88588539a14c473bbc63a6b2d4144581",
            "a5501a829e2344d69d458568baadf3ef",
            "7b9100af8a6340d1aba6fd75cc576d81",
            "e89d8b61679f4f7b8f34f513a46eba87",
            "cd40238ddf644b4ea2f50d06ef271885",
            "560fdf1124ab437eb58cbb69557b746e",
            "c1a90f2f60c54ab8bf9214bb89a3599b",
            "d5c5c49c9c8b4733aaa841b8569019fc",
            "f40b7dc0f480445e931ee65435fafde8",
            "557158786b0f485a9600212c6d268ef7",
            "c2c07b70f0414f76be951b6d78198728",
            "e6f214993d7744259d27bb70e1b9c43c",
            "c59154a451d342629b46b857c37f62bb",
            "2a9d47501e5442d0b7ec1f3db014d005",
            "1bd5cd86d9604c7ea5fc929269d17663",
            "ea6cb09b6ce3403e89ccb6a01462b207",
            "8bae4bec710c420287a46049311beda8",
            "0c55b955e6974dcaa1acc4d412ba8246",
            "dc655b8375d74951ad0256861a361c29",
            "7d842c9996ab4e2091f739445e0f46f0",
            "3ad25309432f4a2f83202614df7b30c8",
            "1010cc42048a41419dc3c773f1ccee26"
          ]
        }
      },
      "source": [
        "trainset= datasets.MNIST('~/.pytorch/MNIST_data/',download =True,train=True,transform=transforms)"
      ],
      "execution_count": 0,
      "outputs": [
        {
          "output_type": "stream",
          "text": [
            "Downloading http://yann.lecun.com/exdb/mnist/train-images-idx3-ubyte.gz to /root/.pytorch/MNIST_data/MNIST/raw/train-images-idx3-ubyte.gz\n"
          ],
          "name": "stdout"
        },
        {
          "output_type": "display_data",
          "data": {
            "application/vnd.jupyter.widget-view+json": {
              "model_id": "3ca4733ad10d4b278c81980eb05b27fc",
              "version_minor": 0,
              "version_major": 2
            },
            "text/plain": [
              "HBox(children=(IntProgress(value=1, bar_style='info', max=1), HTML(value='')))"
            ]
          },
          "metadata": {
            "tags": []
          }
        },
        {
          "output_type": "stream",
          "text": [
            "Extracting /root/.pytorch/MNIST_data/MNIST/raw/train-images-idx3-ubyte.gz to /root/.pytorch/MNIST_data/MNIST/raw\n",
            "Downloading http://yann.lecun.com/exdb/mnist/train-labels-idx1-ubyte.gz to /root/.pytorch/MNIST_data/MNIST/raw/train-labels-idx1-ubyte.gz\n"
          ],
          "name": "stdout"
        },
        {
          "output_type": "display_data",
          "data": {
            "application/vnd.jupyter.widget-view+json": {
              "model_id": "0da8fb6a38d447f0ae0274851dabd0c0",
              "version_minor": 0,
              "version_major": 2
            },
            "text/plain": [
              "HBox(children=(IntProgress(value=1, bar_style='info', max=1), HTML(value='')))"
            ]
          },
          "metadata": {
            "tags": []
          }
        },
        {
          "output_type": "stream",
          "text": [
            "Extracting /root/.pytorch/MNIST_data/MNIST/raw/train-labels-idx1-ubyte.gz to /root/.pytorch/MNIST_data/MNIST/raw\n",
            "Downloading http://yann.lecun.com/exdb/mnist/t10k-images-idx3-ubyte.gz to /root/.pytorch/MNIST_data/MNIST/raw/t10k-images-idx3-ubyte.gz\n"
          ],
          "name": "stdout"
        },
        {
          "output_type": "display_data",
          "data": {
            "application/vnd.jupyter.widget-view+json": {
              "model_id": "c1a90f2f60c54ab8bf9214bb89a3599b",
              "version_minor": 0,
              "version_major": 2
            },
            "text/plain": [
              "HBox(children=(IntProgress(value=1, bar_style='info', max=1), HTML(value='')))"
            ]
          },
          "metadata": {
            "tags": []
          }
        },
        {
          "output_type": "stream",
          "text": [
            "Extracting /root/.pytorch/MNIST_data/MNIST/raw/t10k-images-idx3-ubyte.gz to /root/.pytorch/MNIST_data/MNIST/raw\n",
            "Downloading http://yann.lecun.com/exdb/mnist/t10k-labels-idx1-ubyte.gz to /root/.pytorch/MNIST_data/MNIST/raw/t10k-labels-idx1-ubyte.gz\n"
          ],
          "name": "stdout"
        },
        {
          "output_type": "display_data",
          "data": {
            "application/vnd.jupyter.widget-view+json": {
              "model_id": "1bd5cd86d9604c7ea5fc929269d17663",
              "version_minor": 0,
              "version_major": 2
            },
            "text/plain": [
              "HBox(children=(IntProgress(value=1, bar_style='info', max=1), HTML(value='')))"
            ]
          },
          "metadata": {
            "tags": []
          }
        },
        {
          "output_type": "stream",
          "text": [
            "Extracting /root/.pytorch/MNIST_data/MNIST/raw/t10k-labels-idx1-ubyte.gz to /root/.pytorch/MNIST_data/MNIST/raw\n",
            "Processing...\n",
            "Done!\n"
          ],
          "name": "stdout"
        },
        {
          "output_type": "stream",
          "text": [
            "/pytorch/torch/csrc/utils/tensor_numpy.cpp:141: UserWarning: The given NumPy array is not writeable, and PyTorch does not support non-writeable tensors. This means you can write to the underlying (supposedly non-writeable) NumPy array using the tensor. You may want to copy the array to protect its data or make it writeable before converting it to a tensor. This type of warning will be suppressed for the rest of this program.\n"
          ],
          "name": "stderr"
        }
      ]
    },
    {
      "cell_type": "code",
      "metadata": {
        "id": "vtv_4vPb1_pm",
        "colab_type": "code",
        "colab": {}
      },
      "source": [
        "trainloader =torch.utils.data.DataLoader(trainset,batch_size=64,shuffle=True)"
      ],
      "execution_count": 0,
      "outputs": []
    },
    {
      "cell_type": "code",
      "metadata": {
        "id": "nncWpgOV2LR1",
        "colab_type": "code",
        "colab": {}
      },
      "source": [
        "dataiter =iter(trainloader)\n",
        "images,labels =dataiter.next()"
      ],
      "execution_count": 0,
      "outputs": []
    },
    {
      "cell_type": "code",
      "metadata": {
        "id": "XEvx7Gab2cpo",
        "colab_type": "code",
        "outputId": "d52e13e5-8df5-4eb2-9036-15ef200865ae",
        "colab": {
          "base_uri": "https://localhost:8080/",
          "height": 67
        }
      },
      "source": [
        "print(type(images))\n",
        "print(images.shape)\n",
        "print(labels.shape)"
      ],
      "execution_count": 0,
      "outputs": [
        {
          "output_type": "stream",
          "text": [
            "<class 'torch.Tensor'>\n",
            "torch.Size([64, 1, 28, 28])\n",
            "torch.Size([64])\n"
          ],
          "name": "stdout"
        }
      ]
    },
    {
      "cell_type": "code",
      "metadata": {
        "id": "Hec6ojb12jC-",
        "colab_type": "code",
        "colab": {}
      },
      "source": [
        "im=images.flatten"
      ],
      "execution_count": 0,
      "outputs": []
    },
    {
      "cell_type": "code",
      "metadata": {
        "id": "yM5kO7Xa3GdX",
        "colab_type": "code",
        "outputId": "91ce6ee1-e1c8-4376-b8bb-921c923ed620",
        "colab": {
          "base_uri": "https://localhost:8080/",
          "height": 134
        }
      },
      "source": [
        "images.resize_(64,784)"
      ],
      "execution_count": 0,
      "outputs": [
        {
          "output_type": "execute_result",
          "data": {
            "text/plain": [
              "tensor([[-1., -1., -1.,  ..., -1., -1., -1.],\n",
              "        [-1., -1., -1.,  ..., -1., -1., -1.],\n",
              "        [-1., -1., -1.,  ..., -1., -1., -1.],\n",
              "        ...,\n",
              "        [-1., -1., -1.,  ..., -1., -1., -1.],\n",
              "        [-1., -1., -1.,  ..., -1., -1., -1.],\n",
              "        [-1., -1., -1.,  ..., -1., -1., -1.]])"
            ]
          },
          "metadata": {
            "tags": []
          },
          "execution_count": 19
        }
      ]
    },
    {
      "cell_type": "code",
      "metadata": {
        "id": "NJ8ws09r3J15",
        "colab_type": "code",
        "outputId": "e1ce930e-d8a5-40dc-ee2a-01f4a07067fd",
        "colab": {
          "base_uri": "https://localhost:8080/",
          "height": 134
        }
      },
      "source": [
        "images"
      ],
      "execution_count": 0,
      "outputs": [
        {
          "output_type": "execute_result",
          "data": {
            "text/plain": [
              "tensor([[-1., -1., -1.,  ..., -1., -1., -1.],\n",
              "        [-1., -1., -1.,  ..., -1., -1., -1.],\n",
              "        [-1., -1., -1.,  ..., -1., -1., -1.],\n",
              "        ...,\n",
              "        [-1., -1., -1.,  ..., -1., -1., -1.],\n",
              "        [-1., -1., -1.,  ..., -1., -1., -1.],\n",
              "        [-1., -1., -1.,  ..., -1., -1., -1.]])"
            ]
          },
          "metadata": {
            "tags": []
          },
          "execution_count": 20
        }
      ]
    },
    {
      "cell_type": "code",
      "metadata": {
        "id": "g2dNGLoJ3ZaV",
        "colab_type": "code",
        "colab": {}
      },
      "source": [
        "weights = torch.randn_like(images)"
      ],
      "execution_count": 0,
      "outputs": []
    },
    {
      "cell_type": "code",
      "metadata": {
        "id": "WZpFCg5X3oNO",
        "colab_type": "code",
        "colab": {}
      },
      "source": [
        "n_input = images.shape[1]     # Number of input units, must match number of input features\n",
        "n_hidden = 256                   # Number of hidden units \n",
        "n_output = 10                    # Number of output units\n",
        "\n",
        "# Weights for inputs to hidden layer\n",
        "W1 = torch.randn(n_input, n_hidden)\n",
        "# Weights for hidden layer to output layer\n",
        "W2 = torch.randn(n_hidden, n_output)\n",
        "\n",
        "# and bias terms for hidden and output layers\n",
        "B1 = torch.randn((1, n_hidden))\n",
        "B2 = torch.randn((1, n_output))"
      ],
      "execution_count": 0,
      "outputs": []
    },
    {
      "cell_type": "code",
      "metadata": {
        "id": "ziKGKXmm32GB",
        "colab_type": "code",
        "colab": {}
      },
      "source": [
        "p=torch.mm(activation(torch.mm(images,W1)+B1),W2) + B2"
      ],
      "execution_count": 0,
      "outputs": []
    },
    {
      "cell_type": "code",
      "metadata": {
        "id": "WwxWWr2X345V",
        "colab_type": "code",
        "outputId": "d6fc373c-09e2-4293-eb2d-8f66467a236e",
        "colab": {
          "base_uri": "https://localhost:8080/",
          "height": 34
        }
      },
      "source": [
        "p.shape"
      ],
      "execution_count": 0,
      "outputs": [
        {
          "output_type": "execute_result",
          "data": {
            "text/plain": [
              "torch.Size([64, 10])"
            ]
          },
          "metadata": {
            "tags": []
          },
          "execution_count": 32
        }
      ]
    },
    {
      "cell_type": "code",
      "metadata": {
        "id": "070D7CeM4G7L",
        "colab_type": "code",
        "colab": {}
      },
      "source": [
        "def sigmoid(x):\n",
        "  return torch.exp(x)/torch.sum(torch.exp(x),dim=1).view(-1,1)"
      ],
      "execution_count": 0,
      "outputs": []
    },
    {
      "cell_type": "code",
      "metadata": {
        "id": "_Pb-ojek_BQb",
        "colab_type": "code",
        "colab": {}
      },
      "source": [
        ""
      ],
      "execution_count": 0,
      "outputs": []
    },
    {
      "cell_type": "code",
      "metadata": {
        "id": "Dt4kfBv27ipd",
        "colab_type": "code",
        "colab": {}
      },
      "source": [
        "r=sigmoid(p)"
      ],
      "execution_count": 0,
      "outputs": []
    },
    {
      "cell_type": "code",
      "metadata": {
        "id": "k4RBCvkT7tDo",
        "colab_type": "code",
        "outputId": "7e05193d-caf6-4855-956b-878ce888800e",
        "colab": {
          "base_uri": "https://localhost:8080/",
          "height": 34
        }
      },
      "source": [
        "r.shape"
      ],
      "execution_count": 0,
      "outputs": [
        {
          "output_type": "execute_result",
          "data": {
            "text/plain": [
              "torch.Size([64, 10])"
            ]
          },
          "metadata": {
            "tags": []
          },
          "execution_count": 46
        }
      ]
    },
    {
      "cell_type": "code",
      "metadata": {
        "id": "KhXPTqM_7x5C",
        "colab_type": "code",
        "outputId": "cbb86485-b013-4a72-c31f-0b6cf0da7868",
        "colab": {
          "base_uri": "https://localhost:8080/",
          "height": 1000
        }
      },
      "source": [
        "r"
      ],
      "execution_count": 0,
      "outputs": [
        {
          "output_type": "execute_result",
          "data": {
            "text/plain": [
              "tensor([[6.2531e-15, 2.6024e-08, 1.7613e-07, 2.3568e-10, 1.0000e+00, 9.2149e-16,\n",
              "         8.1938e-09, 3.1170e-09, 2.1689e-08, 3.1683e-09],\n",
              "        [3.7708e-11, 2.0885e-10, 1.7805e-01, 1.0392e-10, 7.4933e-04, 3.2759e-11,\n",
              "         1.6265e-06, 8.2115e-01, 4.2386e-05, 1.7308e-06],\n",
              "        [1.5179e-10, 7.9778e-10, 3.6649e-01, 1.3010e-08, 4.2306e-01, 8.1770e-14,\n",
              "         5.7383e-06, 4.8217e-04, 2.0996e-01, 7.6348e-11],\n",
              "        [3.2052e-06, 1.7841e-07, 8.5153e-01, 7.0033e-06, 3.1598e-02, 2.3963e-11,\n",
              "         2.3612e-06, 1.1645e-01, 2.3049e-04, 1.8342e-04],\n",
              "        [2.0217e-10, 1.6732e-19, 9.9958e-01, 5.8024e-15, 4.2072e-04, 3.3156e-17,\n",
              "         6.4231e-11, 6.8843e-07, 3.5534e-09, 1.9625e-09],\n",
              "        [1.4705e-12, 1.0294e-16, 6.4927e-04, 1.1055e-15, 2.8877e-09, 2.5995e-19,\n",
              "         9.1552e-10, 9.9935e-01, 1.2993e-09, 7.8726e-11],\n",
              "        [1.2051e-05, 3.8776e-15, 3.2866e-01, 1.3512e-06, 4.6596e-01, 4.1239e-11,\n",
              "         4.4367e-09, 2.0472e-01, 6.2775e-06, 6.4708e-04],\n",
              "        [6.2370e-08, 2.9191e-17, 9.7140e-01, 1.8751e-11, 7.1252e-03, 7.6823e-19,\n",
              "         1.9229e-08, 2.1479e-02, 1.2525e-08, 8.3300e-09],\n",
              "        [2.7016e-08, 3.1337e-11, 9.4890e-01, 1.8838e-09, 5.0638e-02, 3.9128e-13,\n",
              "         3.1391e-08, 4.6012e-04, 9.6171e-07, 4.4793e-06],\n",
              "        [6.3960e-14, 1.6510e-12, 9.9508e-01, 3.3400e-09, 1.3461e-03, 2.1002e-13,\n",
              "         1.1850e-08, 2.6464e-03, 9.2996e-04, 2.2342e-10],\n",
              "        [1.8795e-08, 1.7566e-12, 2.1773e-02, 4.1762e-10, 5.1301e-04, 5.3804e-14,\n",
              "         7.9350e-10, 9.7771e-01, 1.2028e-06, 2.5373e-09],\n",
              "        [8.8681e-09, 1.4088e-11, 3.4189e-01, 2.1203e-06, 5.4027e-03, 4.2521e-12,\n",
              "         4.1004e-03, 6.4486e-01, 1.6579e-03, 2.0886e-03],\n",
              "        [4.2121e-08, 8.2196e-08, 9.9411e-01, 2.6795e-11, 2.0887e-05, 3.0273e-10,\n",
              "         9.7305e-08, 5.3096e-03, 5.3016e-04, 3.2430e-05],\n",
              "        [2.6886e-08, 1.6698e-09, 9.8280e-01, 3.0306e-11, 3.1428e-05, 7.4455e-11,\n",
              "         2.5581e-03, 7.9166e-03, 6.6966e-03, 3.4243e-07],\n",
              "        [4.1298e-11, 8.2768e-14, 4.6311e-01, 5.7894e-13, 4.8092e-07, 5.2177e-17,\n",
              "         9.5651e-05, 5.3503e-01, 1.7654e-03, 3.3016e-10],\n",
              "        [5.2872e-12, 1.4182e-11, 4.4089e-08, 6.1446e-08, 6.3893e-06, 2.3991e-15,\n",
              "         1.2721e-07, 9.9953e-01, 4.6391e-04, 8.0902e-12],\n",
              "        [8.1402e-11, 1.3933e-09, 4.4258e-04, 1.8073e-11, 1.4267e-04, 5.3880e-11,\n",
              "         2.9809e-08, 9.9940e-01, 1.1885e-05, 2.9215e-07],\n",
              "        [6.0450e-10, 9.0976e-17, 8.8131e-01, 4.3871e-06, 1.1000e-03, 1.8574e-15,\n",
              "         2.3890e-08, 1.1701e-01, 2.1009e-06, 5.7121e-04],\n",
              "        [5.6248e-14, 1.1087e-16, 1.0000e+00, 2.2994e-17, 2.8000e-07, 4.0584e-19,\n",
              "         2.4085e-09, 1.0900e-09, 5.4214e-10, 1.7632e-09],\n",
              "        [6.4375e-09, 3.4831e-14, 7.2648e-01, 3.6749e-08, 7.2680e-02, 8.5853e-12,\n",
              "         5.0573e-05, 2.4681e-03, 1.4779e-05, 1.9830e-01],\n",
              "        [2.3446e-12, 4.6834e-13, 9.9679e-01, 8.7370e-12, 2.0420e-06, 1.8011e-09,\n",
              "         5.8347e-09, 3.1964e-03, 1.3748e-05, 8.1709e-07],\n",
              "        [2.1001e-13, 9.0037e-15, 2.3684e-06, 1.3738e-18, 5.7206e-07, 3.0222e-18,\n",
              "         9.9976e-14, 1.0000e+00, 4.6889e-13, 3.3652e-11],\n",
              "        [1.0559e-08, 1.0419e-14, 1.3730e-03, 1.7943e-16, 7.5213e-05, 5.3386e-14,\n",
              "         2.9877e-08, 9.9855e-01, 6.4440e-06, 1.7903e-09],\n",
              "        [2.1084e-12, 4.5644e-10, 8.2703e-01, 1.5010e-12, 4.5810e-02, 1.2397e-15,\n",
              "         1.8247e-06, 1.2715e-01, 7.7959e-07, 1.3153e-07],\n",
              "        [4.4965e-11, 1.1091e-08, 9.4487e-01, 4.8836e-10, 2.3987e-02, 8.5638e-14,\n",
              "         4.6582e-05, 9.9805e-03, 1.9030e-04, 2.0925e-02],\n",
              "        [6.4575e-19, 4.5266e-16, 1.0000e+00, 5.3958e-20, 8.2522e-08, 2.7180e-18,\n",
              "         4.6350e-14, 1.5181e-06, 9.4118e-08, 4.2629e-14],\n",
              "        [1.0384e-12, 4.5645e-14, 2.9596e-05, 2.1461e-17, 4.6599e-09, 1.3026e-17,\n",
              "         4.0920e-10, 9.9997e-01, 1.4873e-10, 7.8413e-11],\n",
              "        [1.5511e-08, 3.0978e-09, 7.0638e-01, 2.4844e-06, 5.0961e-02, 4.0389e-09,\n",
              "         6.1919e-07, 2.2442e-01, 8.6515e-04, 1.7364e-02],\n",
              "        [1.9869e-08, 1.5620e-09, 9.9710e-01, 5.1515e-12, 2.3206e-05, 1.2577e-13,\n",
              "         2.9677e-07, 1.2956e-03, 1.4987e-03, 7.7514e-05],\n",
              "        [1.0541e-12, 1.7940e-10, 9.8576e-01, 2.7168e-04, 2.5656e-10, 3.6549e-11,\n",
              "         1.5796e-03, 5.0389e-06, 1.2382e-02, 6.7885e-06],\n",
              "        [3.9362e-10, 5.8817e-17, 9.6528e-01, 8.2433e-10, 1.1168e-03, 2.3571e-14,\n",
              "         3.0176e-10, 3.3603e-02, 6.8167e-09, 2.0711e-11],\n",
              "        [5.7151e-13, 4.2421e-11, 1.0000e+00, 2.0849e-15, 5.1934e-09, 5.9146e-11,\n",
              "         3.0494e-10, 3.2305e-07, 4.5525e-07, 6.9009e-11],\n",
              "        [5.5891e-17, 2.8499e-13, 9.7420e-01, 2.6474e-04, 6.5422e-06, 2.9833e-17,\n",
              "         8.7351e-08, 1.7560e-02, 7.9687e-03, 1.1074e-06],\n",
              "        [4.0796e-13, 3.8965e-13, 2.3082e-05, 2.9511e-11, 7.3889e-05, 4.6663e-13,\n",
              "         4.0621e-07, 8.0836e-01, 1.9154e-01, 5.7211e-06],\n",
              "        [2.4149e-09, 1.3603e-12, 8.3546e-01, 4.6911e-13, 3.6710e-06, 1.7123e-16,\n",
              "         7.9867e-10, 1.6453e-01, 1.1536e-07, 1.3562e-12],\n",
              "        [2.4349e-10, 1.4174e-05, 9.2334e-02, 1.9345e-08, 1.4371e-03, 5.0350e-14,\n",
              "         8.9919e-07, 8.6535e-01, 4.0666e-02, 2.0068e-04],\n",
              "        [1.7351e-15, 1.7431e-12, 9.9995e-01, 2.5623e-12, 4.3688e-06, 1.7542e-12,\n",
              "         4.4835e-13, 4.7765e-05, 5.9598e-09, 5.0301e-09],\n",
              "        [1.1474e-13, 4.2317e-11, 5.9124e-03, 8.4688e-10, 4.2295e-02, 6.7484e-17,\n",
              "         1.7272e-07, 9.5179e-01, 1.2969e-06, 6.6649e-11],\n",
              "        [6.5004e-09, 6.2909e-14, 9.9859e-01, 2.2138e-08, 1.2627e-04, 4.4739e-16,\n",
              "         4.8327e-08, 1.2796e-03, 4.6250e-06, 8.3762e-08],\n",
              "        [3.5019e-12, 6.6014e-12, 9.9910e-01, 3.8475e-12, 2.9054e-04, 3.0647e-16,\n",
              "         9.7985e-12, 6.0369e-06, 2.2756e-07, 5.9898e-04],\n",
              "        [3.6318e-05, 6.1456e-17, 7.9419e-01, 1.4342e-08, 2.0029e-01, 2.2870e-16,\n",
              "         2.3274e-06, 2.5940e-03, 2.2741e-03, 6.1151e-04],\n",
              "        [3.8045e-08, 1.9421e-12, 4.9624e-02, 9.6572e-10, 7.5711e-04, 6.1418e-15,\n",
              "         1.0890e-06, 9.4236e-01, 7.2307e-03, 3.1366e-05],\n",
              "        [1.1097e-11, 4.8368e-12, 2.8663e-01, 2.0197e-11, 4.1937e-03, 5.4553e-18,\n",
              "         1.3068e-09, 7.0917e-01, 1.0970e-06, 8.5304e-09],\n",
              "        [1.0465e-09, 7.5888e-07, 7.6083e-01, 2.6879e-11, 3.5947e-05, 1.4884e-13,\n",
              "         1.2122e-06, 2.3909e-01, 7.2259e-07, 4.2419e-05],\n",
              "        [2.9317e-10, 7.4501e-12, 6.7976e-01, 9.3184e-09, 2.8920e-01, 4.3264e-14,\n",
              "         2.7400e-06, 2.7756e-02, 3.2775e-03, 2.8645e-06],\n",
              "        [6.8416e-09, 1.1937e-13, 9.9381e-01, 1.6459e-12, 6.1908e-03, 4.5108e-17,\n",
              "         1.3496e-11, 8.9236e-08, 7.5901e-11, 1.7428e-08],\n",
              "        [5.6968e-13, 2.5806e-13, 2.0844e-02, 1.4158e-11, 6.8020e-04, 2.1260e-12,\n",
              "         8.0412e-09, 9.7846e-01, 1.7085e-05, 3.4397e-11],\n",
              "        [1.7274e-13, 4.2869e-09, 9.9722e-01, 1.8653e-11, 1.9065e-03, 2.6441e-15,\n",
              "         5.3538e-07, 1.6668e-05, 7.1122e-04, 1.4451e-04],\n",
              "        [6.4630e-09, 2.5985e-06, 1.7808e-02, 3.1328e-11, 3.1795e-05, 5.2106e-11,\n",
              "         6.0979e-06, 8.6327e-04, 9.8127e-01, 2.0156e-05],\n",
              "        [1.2561e-07, 1.1215e-11, 4.0980e-07, 5.5138e-07, 1.8933e-04, 7.3715e-14,\n",
              "         6.6251e-09, 9.5738e-01, 4.1297e-02, 1.1354e-03],\n",
              "        [8.8540e-11, 3.9148e-11, 9.9968e-01, 1.6550e-12, 1.0158e-07, 1.8049e-13,\n",
              "         1.3551e-08, 2.2154e-04, 7.3293e-10, 1.0258e-04],\n",
              "        [2.0256e-06, 8.0864e-08, 1.1897e-01, 1.2993e-07, 6.3611e-01, 3.4182e-10,\n",
              "         2.1496e-01, 4.0599e-03, 2.5893e-02, 3.9228e-07],\n",
              "        [1.4539e-10, 6.6522e-19, 8.8834e-01, 1.2018e-05, 8.6162e-04, 7.8186e-14,\n",
              "         1.0667e-09, 1.0509e-01, 1.7089e-06, 5.6937e-03],\n",
              "        [1.4447e-10, 1.2153e-15, 1.1342e-03, 3.9414e-15, 2.0648e-05, 1.5367e-12,\n",
              "         6.1776e-10, 9.9883e-01, 1.3411e-05, 1.3345e-08],\n",
              "        [1.3760e-11, 5.6996e-13, 1.6399e-03, 1.9103e-09, 9.4124e-03, 2.3364e-15,\n",
              "         4.8322e-09, 9.8894e-01, 3.0561e-08, 3.9899e-06],\n",
              "        [1.5788e-12, 5.6970e-08, 9.4014e-03, 2.8277e-07, 5.0547e-04, 7.6259e-11,\n",
              "         8.5983e-05, 4.8264e-04, 9.8871e-01, 8.1895e-04],\n",
              "        [2.2078e-04, 8.0387e-13, 6.0432e-04, 8.2567e-13, 4.7005e-07, 3.8203e-16,\n",
              "         4.0721e-11, 9.9917e-01, 3.0643e-08, 5.5352e-08],\n",
              "        [3.0836e-15, 9.3255e-15, 1.0000e+00, 1.4365e-16, 3.4820e-09, 5.1491e-21,\n",
              "         1.2236e-13, 4.4943e-07, 4.9423e-10, 4.2669e-10],\n",
              "        [2.6914e-12, 2.5847e-12, 1.6905e-04, 1.1510e-09, 9.9978e-01, 3.3127e-16,\n",
              "         3.8396e-10, 2.1876e-05, 3.5403e-06, 2.9299e-05],\n",
              "        [1.5416e-11, 1.0026e-13, 1.4582e-02, 5.0689e-13, 9.7626e-01, 3.5346e-11,\n",
              "         2.3412e-11, 1.0616e-03, 8.1008e-03, 8.5282e-08],\n",
              "        [4.3228e-08, 6.8606e-15, 9.5280e-01, 1.3323e-09, 3.2928e-03, 3.4465e-15,\n",
              "         9.4866e-10, 4.3829e-02, 3.6848e-08, 7.3275e-05],\n",
              "        [5.8328e-13, 8.5281e-14, 9.9987e-01, 1.5792e-10, 4.7594e-06, 3.7013e-13,\n",
              "         2.3531e-09, 1.1608e-04, 9.2841e-06, 3.6510e-06],\n",
              "        [7.6314e-11, 1.4502e-11, 3.0507e-06, 5.1212e-04, 1.1938e-02, 3.6700e-10,\n",
              "         4.3481e-05, 2.1740e-03, 9.8533e-01, 4.3984e-09],\n",
              "        [9.1877e-09, 4.3491e-07, 3.7080e-02, 1.6308e-07, 1.3852e-02, 9.4716e-09,\n",
              "         3.9100e-03, 1.6541e-02, 9.2861e-01, 8.2778e-06]])"
            ]
          },
          "metadata": {
            "tags": []
          },
          "execution_count": 47
        }
      ]
    },
    {
      "cell_type": "markdown",
      "metadata": {
        "id": "a401NLFt7zno",
        "colab_type": "text"
      },
      "source": [
        "# Part 2-3"
      ]
    },
    {
      "cell_type": "markdown",
      "metadata": {
        "id": "6unuDAtP-Xo0",
        "colab_type": "text"
      },
      "source": [
        "network with pytorch"
      ]
    },
    {
      "cell_type": "code",
      "metadata": {
        "id": "exzsPGFa_Qef",
        "colab_type": "code",
        "colab": {}
      },
      "source": [
        "from torch import nn"
      ],
      "execution_count": 0,
      "outputs": []
    },
    {
      "cell_type": "code",
      "metadata": {
        "id": "7ffYTm8W_SN-",
        "colab_type": "code",
        "colab": {}
      },
      "source": [
        "class Network(nn.Module):\n",
        "  def __init__(self):\n",
        "    super().__init__()\n",
        "\n",
        "    self.hidden = nn.Linear(784,256)\n",
        "    self.output = nn.Linear(256,10)\n",
        "\n",
        "    self.sigmoid =nn.Sigmoid()\n",
        "    self.softmax=nn.Softmax(dim=1)\n",
        "\n",
        "  def forward(self,x):\n",
        "    x = self.hidden(x)\n",
        "    x= self.sigmoid(x)\n",
        "    x= self.output(x)\n",
        "    x = self.softmax(x)\n",
        "    return x"
      ],
      "execution_count": 0,
      "outputs": []
    },
    {
      "cell_type": "code",
      "metadata": {
        "id": "Vb6n84rkABDa",
        "colab_type": "code",
        "colab": {}
      },
      "source": [
        "model1 =Network()"
      ],
      "execution_count": 0,
      "outputs": []
    },
    {
      "cell_type": "code",
      "metadata": {
        "id": "dJGM4HzqAF5q",
        "colab_type": "code",
        "outputId": "9c8b6c59-0149-4e52-f0ce-d70ead7563f6",
        "colab": {
          "base_uri": "https://localhost:8080/",
          "height": 118
        }
      },
      "source": [
        "model1"
      ],
      "execution_count": 0,
      "outputs": [
        {
          "output_type": "execute_result",
          "data": {
            "text/plain": [
              "Network(\n",
              "  (hidden): Linear(in_features=784, out_features=256, bias=True)\n",
              "  (output): Linear(in_features=256, out_features=10, bias=True)\n",
              "  (sigmoid): Sigmoid()\n",
              "  (softmax): Softmax(dim=1)\n",
              ")"
            ]
          },
          "metadata": {
            "tags": []
          },
          "execution_count": 59
        }
      ]
    },
    {
      "cell_type": "code",
      "metadata": {
        "id": "v5WCk9-KAOnr",
        "colab_type": "code",
        "colab": {}
      },
      "source": [
        "class ReluNetwork(nn.Module):\n",
        "  def __init__(self):\n",
        "    super().__init__()\n",
        "\n",
        "    self.hidden1 =nn.Linear(784,128)\n",
        "    self.hidden2 = nn.Linear(128,64)\n",
        "    self.output=nn.Linear(64,10)\n",
        "\n",
        "    self.relu =nn.ReLU()\n",
        "    self.softmax=nn.Softmax()\n",
        "  \n",
        "  def forward(self,x):\n",
        "    x = self.hidden1(x)\n",
        "    x = self.relu(x)\n",
        "    x = self.hidden(2)\n",
        "    x = self.relu(x)\n",
        "    x = self.output(x)\n",
        "    x = self.softmax(x)\n",
        "\n",
        "    return x"
      ],
      "execution_count": 0,
      "outputs": []
    },
    {
      "cell_type": "code",
      "metadata": {
        "id": "zzlFl8xEBX_h",
        "colab_type": "code",
        "colab": {}
      },
      "source": [
        "modelrel= ReluNetwork()"
      ],
      "execution_count": 0,
      "outputs": []
    },
    {
      "cell_type": "code",
      "metadata": {
        "id": "KXdPgknRBcUX",
        "colab_type": "code",
        "outputId": "7b3fc475-e245-403e-ca33-280836f6327a",
        "colab": {
          "base_uri": "https://localhost:8080/",
          "height": 134
        }
      },
      "source": [
        "modelrel"
      ],
      "execution_count": 0,
      "outputs": [
        {
          "output_type": "execute_result",
          "data": {
            "text/plain": [
              "ReluNetwork(\n",
              "  (hidden1): Linear(in_features=784, out_features=128, bias=True)\n",
              "  (hidden2): Linear(in_features=128, out_features=64, bias=True)\n",
              "  (output): Linear(in_features=64, out_features=10, bias=True)\n",
              "  (relu): ReLU()\n",
              "  (softmax): Softmax(dim=None)\n",
              ")"
            ]
          },
          "metadata": {
            "tags": []
          },
          "execution_count": 58
        }
      ]
    },
    {
      "cell_type": "markdown",
      "metadata": {
        "id": "d843N_MwRzDT",
        "colab_type": "text"
      },
      "source": [
        "## Part 3-1"
      ]
    },
    {
      "cell_type": "code",
      "metadata": {
        "id": "DylKT7fEBmjn",
        "colab_type": "code",
        "colab": {}
      },
      "source": [
        "modelseq =nn.Sequential(nn.Linear(784,128),\\\n",
        "              nn.ReLU(),\\\n",
        "              nn.Linear(128,64),\\\n",
        "              nn.ReLU(),\\\n",
        "              nn.Linear(64,10),\\\n",
        "              nn.LogSoftmax(dim=1))"
      ],
      "execution_count": 0,
      "outputs": []
    },
    {
      "cell_type": "code",
      "metadata": {
        "id": "g3PnOUQFPZ3L",
        "colab_type": "code",
        "colab": {}
      },
      "source": [
        "criterion = nn.NLLLoss()"
      ],
      "execution_count": 0,
      "outputs": []
    },
    {
      "cell_type": "code",
      "metadata": {
        "id": "Ek9pdf5fPjyZ",
        "colab_type": "code",
        "colab": {}
      },
      "source": [
        "images,lables = next(iter(trainloader))\n"
      ],
      "execution_count": 0,
      "outputs": []
    },
    {
      "cell_type": "code",
      "metadata": {
        "id": "N_zKt-6XPs6l",
        "colab_type": "code",
        "colab": {}
      },
      "source": [
        "images = images.view(images.shape[0],-1)"
      ],
      "execution_count": 0,
      "outputs": []
    },
    {
      "cell_type": "code",
      "metadata": {
        "id": "5nnZbo5UPx-p",
        "colab_type": "code",
        "colab": {}
      },
      "source": [
        "logits = modelseq(images)"
      ],
      "execution_count": 0,
      "outputs": []
    },
    {
      "cell_type": "code",
      "metadata": {
        "id": "euSOy81WP5yo",
        "colab_type": "code",
        "colab": {}
      },
      "source": [
        ""
      ],
      "execution_count": 0,
      "outputs": []
    },
    {
      "cell_type": "code",
      "metadata": {
        "id": "DSNgDYhNQAit",
        "colab_type": "code",
        "colab": {}
      },
      "source": [
        "loss = criterion(logits,labels)"
      ],
      "execution_count": 0,
      "outputs": []
    },
    {
      "cell_type": "code",
      "metadata": {
        "id": "He8xyf72RuRV",
        "colab_type": "code",
        "outputId": "b803dfa5-a6b4-495a-c672-d6d5e1beb11f",
        "colab": {
          "base_uri": "https://localhost:8080/",
          "height": 34
        }
      },
      "source": [
        "loss"
      ],
      "execution_count": 0,
      "outputs": [
        {
          "output_type": "execute_result",
          "data": {
            "text/plain": [
              "tensor(2.3129, grad_fn=<NllLossBackward>)"
            ]
          },
          "metadata": {
            "tags": []
          },
          "execution_count": 90
        }
      ]
    },
    {
      "cell_type": "code",
      "metadata": {
        "id": "HJ3-c7RIRvQV",
        "colab_type": "code",
        "colab": {}
      },
      "source": [
        ""
      ],
      "execution_count": 0,
      "outputs": []
    }
  ]
}